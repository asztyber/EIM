{
 "cells": [
  {
   "cell_type": "markdown",
   "id": "de06ae5a-7cf7-43bb-b06d-1fa972932a32",
   "metadata": {},
   "source": [
    "# Four tank system example - Fault Signature Matrix, column resoning"
   ]
  },
  {
   "cell_type": "code",
   "execution_count": 2,
   "id": "298ce971",
   "metadata": {},
   "outputs": [],
   "source": [
    "import pandas as pd\n",
    "from isolability import pairwise_relationships as pr\n",
    "from isolability import martices_and_indices as ind\n",
    "from four_tanks.es import ess"
   ]
  },
  {
   "cell_type": "markdown",
   "id": "9470bd06-fca5-4977-9608-47087f62ff01",
   "metadata": {},
   "source": [
    "#### Fault Signature Matrix"
   ]
  },
  {
   "cell_type": "code",
   "execution_count": 3,
   "id": "ab3f081f",
   "metadata": {
    "lines_to_next_cell": 0
   },
   "outputs": [
    {
     "data": {
      "text/html": [
       "<div>\n",
       "<style scoped>\n",
       "    .dataframe tbody tr th:only-of-type {\n",
       "        vertical-align: middle;\n",
       "    }\n",
       "\n",
       "    .dataframe tbody tr th {\n",
       "        vertical-align: top;\n",
       "    }\n",
       "\n",
       "    .dataframe thead th {\n",
       "        text-align: right;\n",
       "    }\n",
       "</style>\n",
       "<table border=\"1\" class=\"dataframe\">\n",
       "  <thead>\n",
       "    <tr style=\"text-align: right;\">\n",
       "      <th></th>\n",
       "      <th>f_1</th>\n",
       "      <th>f_2</th>\n",
       "      <th>f_3</th>\n",
       "      <th>f_4</th>\n",
       "      <th>f_5</th>\n",
       "      <th>f_6</th>\n",
       "      <th>f_7</th>\n",
       "      <th>f_8</th>\n",
       "      <th>f_9</th>\n",
       "      <th>f_10</th>\n",
       "    </tr>\n",
       "  </thead>\n",
       "  <tbody>\n",
       "    <tr>\n",
       "      <th>s_1</th>\n",
       "      <td>1</td>\n",
       "      <td>1</td>\n",
       "      <td>1</td>\n",
       "      <td>1</td>\n",
       "      <td>1</td>\n",
       "      <td>1</td>\n",
       "      <td>1</td>\n",
       "      <td>1</td>\n",
       "      <td>1</td>\n",
       "      <td>0</td>\n",
       "    </tr>\n",
       "    <tr>\n",
       "      <th>s_2</th>\n",
       "      <td>1</td>\n",
       "      <td>1</td>\n",
       "      <td>1</td>\n",
       "      <td>1</td>\n",
       "      <td>1</td>\n",
       "      <td>1</td>\n",
       "      <td>1</td>\n",
       "      <td>1</td>\n",
       "      <td>0</td>\n",
       "      <td>1</td>\n",
       "    </tr>\n",
       "    <tr>\n",
       "      <th>s_3</th>\n",
       "      <td>0</td>\n",
       "      <td>1</td>\n",
       "      <td>1</td>\n",
       "      <td>1</td>\n",
       "      <td>1</td>\n",
       "      <td>1</td>\n",
       "      <td>1</td>\n",
       "      <td>0</td>\n",
       "      <td>1</td>\n",
       "      <td>1</td>\n",
       "    </tr>\n",
       "  </tbody>\n",
       "</table>\n",
       "</div>"
      ],
      "text/plain": [
       "     f_1   f_2   f_3   f_4   f_5   f_6   f_7   f_8   f_9   f_10\n",
       "s_1    1     1     1     1     1     1     1     1     1      0\n",
       "s_2    1     1     1     1     1     1     1     1     0      1\n",
       "s_3    0     1     1     1     1     1     1     0     1      1"
      ]
     },
     "execution_count": 3,
     "metadata": {},
     "output_type": "execute_result"
    }
   ],
   "source": [
    "fsm_df = pd.read_csv('four_tanks/fsm.csv', sep=';', index_col=0)\n",
    "fsm_df"
   ]
  },
  {
   "cell_type": "code",
   "execution_count": 4,
   "id": "f1823d01",
   "metadata": {
    "lines_to_next_cell": 0
   },
   "outputs": [
    {
     "data": {
      "text/plain": [
       "array([[1, 1, 1, 1, 1, 1, 1, 1, 1, 0],\n",
       "       [1, 1, 1, 1, 1, 1, 1, 1, 0, 1],\n",
       "       [0, 1, 1, 1, 1, 1, 1, 0, 1, 1]])"
      ]
     },
     "execution_count": 4,
     "metadata": {},
     "output_type": "execute_result"
    }
   ],
   "source": [
    "fsm = fsm_df.to_numpy()\n",
    "fsm"
   ]
  },
  {
   "cell_type": "markdown",
   "id": "f9dc2e7c-e056-441c-aab7-96d9e669b8a4",
   "metadata": {},
   "source": [
    "#### Exploration of pairwise isolabity relationships\n",
    "* Function arguments are fault **indices** starting from 0, so pr.RN_C_FSM(fsm, 1, 2) checks faults $f_2$ and $f_3$\n",
    "* Avaliable relations:\n",
    "    - RN_C_FSM - non-isolable\n",
    "    - RW_C_FSM - weakly isolable\n",
    "    - RS_C_FSM - strongly isolable"
   ]
  },
  {
   "cell_type": "code",
   "execution_count": 5,
   "id": "27390408",
   "metadata": {
    "lines_to_next_cell": 0
   },
   "outputs": [
    {
     "data": {
      "text/plain": [
       "True"
      ]
     },
     "execution_count": 5,
     "metadata": {},
     "output_type": "execute_result"
    }
   ],
   "source": [
    "pr.RN_C_FSM(fsm, 1, 2)"
   ]
  },
  {
   "cell_type": "markdown",
   "id": "d4b40bf0-0978-49b8-b510-3261e18e5d8b",
   "metadata": {},
   "source": [
    "#### EIM matrix"
   ]
  },
  {
   "cell_type": "code",
   "execution_count": 7,
   "id": "c0435047",
   "metadata": {
    "lines_to_next_cell": 0
   },
   "outputs": [
    {
     "data": {
      "text/plain": [
       "array([[0., 1., 1., 1., 1., 1., 1., 0., 2., 2.],\n",
       "       [1., 0., 0., 0., 0., 0., 0., 1., 1., 1.],\n",
       "       [1., 0., 0., 0., 0., 0., 0., 1., 1., 1.],\n",
       "       [1., 0., 0., 0., 0., 0., 0., 1., 1., 1.],\n",
       "       [1., 0., 0., 0., 0., 0., 0., 1., 1., 1.],\n",
       "       [1., 0., 0., 0., 0., 0., 0., 1., 1., 1.],\n",
       "       [1., 0., 0., 0., 0., 0., 0., 1., 1., 1.],\n",
       "       [0., 1., 1., 1., 1., 1., 1., 0., 2., 2.],\n",
       "       [2., 1., 1., 1., 1., 1., 1., 2., 0., 2.],\n",
       "       [2., 1., 1., 1., 1., 1., 1., 2., 2., 0.]])"
      ]
     },
     "execution_count": 7,
     "metadata": {},
     "output_type": "execute_result"
    }
   ],
   "source": [
    "eim = ind.EIM_C_FSM(fsm)\n",
    "eim"
   ]
  },
  {
   "cell_type": "markdown",
   "id": "8bb67471-8dc2-4610-b4d1-8720644dfe76",
   "metadata": {},
   "source": [
    "#### $C\\Delta$ coefficient"
   ]
  },
  {
   "cell_type": "code",
   "execution_count": null,
   "id": "9590f969",
   "metadata": {
    "lines_to_next_cell": 0
   },
   "outputs": [],
   "source": [
    "c_delta = ind.C_Delta(eim)\n",
    "print(f\"{c_delta:.3f}\")"
   ]
  },
  {
   "cell_type": "markdown",
   "id": "c9d45e06-a65c-4059-8c6b-dffe2d88ced0",
   "metadata": {},
   "source": [
    "#### $C^*\\Delta$ coefficient"
   ]
  },
  {
   "cell_type": "code",
   "execution_count": null,
   "id": "53abf4cf",
   "metadata": {
    "lines_to_next_cell": 0
   },
   "outputs": [],
   "source": [
    "c_star_delta = ind.C_star_Delta(eim)\n",
    "print(f\"{c_star_delta:.3f}\")"
   ]
  },
  {
   "cell_type": "markdown",
   "id": "0402ae82-8640-4f99-b7ae-08f9a6c33cb0",
   "metadata": {},
   "source": [
    "### Elementary Sequences"
   ]
  },
  {
   "cell_type": "markdown",
   "id": "4a351b71-0a85-458b-9f81-31397e1bc688",
   "metadata": {},
   "source": [
    "#### Exploration of pairwise relationships of isolability base on Elementary Sequences ES\n",
    "* fault indices again start from 0\n",
    "* Avaliable relations:\n",
    "    - R_ES_N - non-isolable\n",
    "    - R_ES_UW - unilaterally isolable\n",
    "    - R_ES_W - isolable"
   ]
  },
  {
   "cell_type": "code",
   "execution_count": 9,
   "id": "441512bd-8ea2-4b1e-af4a-583ac03328c8",
   "metadata": {},
   "outputs": [
    {
     "data": {
      "text/plain": [
       "False"
      ]
     },
     "execution_count": 9,
     "metadata": {},
     "output_type": "execute_result"
    }
   ],
   "source": [
    "pr.R_ES_W(ess, 0, 1)"
   ]
  },
  {
   "cell_type": "markdown",
   "id": "4efa020b-d940-437e-a45b-5ebd9d6e082f",
   "metadata": {},
   "source": [
    "#### IMES matrix"
   ]
  },
  {
   "cell_type": "code",
   "execution_count": 11,
   "id": "60a150e2",
   "metadata": {
    "lines_to_next_cell": 0
   },
   "outputs": [
    {
     "data": {
      "text/plain": [
       "array([[0., 0., 1., 1., 0., 0., 1., 0., 0., 0.],\n",
       "       [0., 0., 1., 1., 0., 0., 1., 0., 0., 0.],\n",
       "       [1., 1., 0., 0., 1., 0., 0., 0., 0., 0.],\n",
       "       [1., 1., 0., 0., 1., 0., 0., 0., 0., 0.],\n",
       "       [0., 0., 1., 1., 0., 0., 1., 0., 0., 0.],\n",
       "       [0., 0., 0., 0., 0., 0., 0., 0., 0., 0.],\n",
       "       [1., 1., 0., 0., 1., 0., 0., 0., 0., 0.],\n",
       "       [0., 0., 0., 0., 0., 0., 0., 0., 0., 0.],\n",
       "       [0., 0., 0., 0., 0., 0., 0., 0., 0., 0.],\n",
       "       [0., 0., 0., 0., 0., 0., 0., 0., 0., 0.]])"
      ]
     },
     "execution_count": 11,
     "metadata": {},
     "output_type": "execute_result"
    }
   ],
   "source": [
    "imes = ind.IMES(ess)\n",
    "imes"
   ]
  },
  {
   "cell_type": "markdown",
   "id": "1811f4ef-de5f-4c6e-893d-498128083ed1",
   "metadata": {},
   "source": [
    "#### Weights for composition of EIM and IMES"
   ]
  },
  {
   "cell_type": "code",
   "execution_count": 18,
   "id": "31aca3f4",
   "metadata": {
    "lines_to_next_cell": 0
   },
   "outputs": [
    {
     "data": {
      "text/html": [
       "<div>\n",
       "<style scoped>\n",
       "    .dataframe tbody tr th:only-of-type {\n",
       "        vertical-align: middle;\n",
       "    }\n",
       "\n",
       "    .dataframe tbody tr th {\n",
       "        vertical-align: top;\n",
       "    }\n",
       "\n",
       "    .dataframe thead th {\n",
       "        text-align: right;\n",
       "    }\n",
       "</style>\n",
       "<table border=\"1\" class=\"dataframe\">\n",
       "  <thead>\n",
       "    <tr style=\"text-align: right;\">\n",
       "      <th></th>\n",
       "      <th>RW_ES</th>\n",
       "      <th>RJW_ES</th>\n",
       "      <th>RN_ES</th>\n",
       "    </tr>\n",
       "  </thead>\n",
       "  <tbody>\n",
       "    <tr>\n",
       "      <th>RS_Cn_FSM</th>\n",
       "      <td>2</td>\n",
       "      <td>2.0</td>\n",
       "      <td>2</td>\n",
       "    </tr>\n",
       "    <tr>\n",
       "      <th>RW_C_FSM</th>\n",
       "      <td>2</td>\n",
       "      <td>1.5</td>\n",
       "      <td>1</td>\n",
       "    </tr>\n",
       "    <tr>\n",
       "      <th>RN_C_FSM</th>\n",
       "      <td>1</td>\n",
       "      <td>0.5</td>\n",
       "      <td>0</td>\n",
       "    </tr>\n",
       "  </tbody>\n",
       "</table>\n",
       "</div>"
      ],
      "text/plain": [
       "           RW_ES   RJW_ES   RN_ES\n",
       "RS_Cn_FSM      2      2.0       2\n",
       "RW_C_FSM       2      1.5       1\n",
       "RN_C_FSM       1      0.5       0"
      ]
     },
     "execution_count": 18,
     "metadata": {},
     "output_type": "execute_result"
    }
   ],
   "source": [
    "comp_weights = pd.read_csv('conf/IMES_weights_FSM_C.csv', sep=';', index_col=0)\n",
    "comp_weights"
   ]
  },
  {
   "cell_type": "markdown",
   "id": "92f0331f-38bf-436e-84fd-7765d150dae3",
   "metadata": {},
   "source": [
    "#### EIM$^*$"
   ]
  },
  {
   "cell_type": "code",
   "execution_count": 14,
   "id": "69359b3d",
   "metadata": {
    "lines_to_next_cell": 0
   },
   "outputs": [
    {
     "data": {
      "text/plain": [
       "array([[0., 1., 2., 2., 1., 1., 2., 0., 2., 2.],\n",
       "       [1., 0., 1., 1., 0., 0., 1., 1., 1., 1.],\n",
       "       [2., 1., 0., 0., 1., 0., 0., 1., 1., 1.],\n",
       "       [2., 1., 0., 0., 1., 0., 0., 1., 1., 1.],\n",
       "       [1., 0., 1., 1., 0., 0., 1., 1., 1., 1.],\n",
       "       [1., 0., 0., 0., 0., 0., 0., 1., 1., 1.],\n",
       "       [2., 1., 0., 0., 1., 0., 0., 1., 1., 1.],\n",
       "       [0., 1., 1., 1., 1., 1., 1., 0., 2., 2.],\n",
       "       [2., 1., 1., 1., 1., 1., 1., 2., 0., 2.],\n",
       "       [2., 1., 1., 1., 1., 1., 1., 2., 2., 0.]])"
      ]
     },
     "execution_count": 14,
     "metadata": {},
     "output_type": "execute_result"
    }
   ],
   "source": [
    "eim_star = ind.EIM_star_C_FSM(fsm, ess, comp_weights)\n",
    "eim_star"
   ]
  },
  {
   "cell_type": "markdown",
   "id": "f862de79-dee9-486a-8f90-190a133a549a",
   "metadata": {},
   "source": [
    "#### $C \\Delta (EIM^*)$"
   ]
  },
  {
   "cell_type": "code",
   "execution_count": 15,
   "id": "ff9a8e36",
   "metadata": {
    "lines_to_next_cell": 0
   },
   "outputs": [
    {
     "name": "stdout",
     "output_type": "stream",
     "text": [
      "0.956\n"
     ]
    }
   ],
   "source": [
    "c_delta = ind.C_Delta(eim_star)\n",
    "print(f\"{c_delta:.3f}\")"
   ]
  },
  {
   "cell_type": "markdown",
   "id": "ab135d33-d194-4199-93a1-0d977d83df35",
   "metadata": {},
   "source": [
    "#### $C^* \\Delta (EIM^*)$"
   ]
  },
  {
   "cell_type": "code",
   "execution_count": 16,
   "id": "098b5a82",
   "metadata": {
    "lines_to_next_cell": 0
   },
   "outputs": [
    {
     "name": "stdout",
     "output_type": "stream",
     "text": [
      "0.778\n"
     ]
    }
   ],
   "source": [
    "c_star_delta = ind.C_star_Delta(eim_star)\n",
    "print(f\"{c_star_delta:.3f}\")"
   ]
  }
 ],
 "metadata": {
  "jupytext": {
   "cell_metadata_filter": "-all",
   "main_language": "python",
   "notebook_metadata_filter": "-all"
  },
  "kernelspec": {
   "display_name": "diags",
   "language": "python",
   "name": "diags"
  },
  "language_info": {
   "codemirror_mode": {
    "name": "ipython",
    "version": 3
   },
   "file_extension": ".py",
   "mimetype": "text/x-python",
   "name": "python",
   "nbconvert_exporter": "python",
   "pygments_lexer": "ipython3",
   "version": "3.11.0rc1"
  }
 },
 "nbformat": 4,
 "nbformat_minor": 5
}
