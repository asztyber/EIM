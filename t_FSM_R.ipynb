{
 "cells": [
  {
   "cell_type": "code",
   "execution_count": null,
   "id": "c6eb954c",
   "metadata": {},
   "outputs": [],
   "source": [
    "import pandas as pd\n",
    "from isolability import pairwise_relationships as pr\n",
    "import isolability.martices_and_indices as ind\n",
    "from four_tanks.es import ess\n",
    "\n",
    "import importlib\n",
    "importlib.reload(pr)\n",
    "importlib.reload(ind)"
   ]
  },
  {
   "cell_type": "code",
   "execution_count": null,
   "id": "b64199c2",
   "metadata": {
    "lines_to_next_cell": 0
   },
   "outputs": [],
   "source": [
    "fsm_df = pd.read_csv('four_tanks/fsm.csv', sep=';', index_col=0)\n",
    "fsm_df"
   ]
  },
  {
   "cell_type": "code",
   "execution_count": null,
   "id": "45ea3490",
   "metadata": {
    "lines_to_next_cell": 0
   },
   "outputs": [],
   "source": [
    "fsm = fsm_df.to_numpy()\n",
    "fsm"
   ]
  },
  {
   "cell_type": "code",
   "execution_count": null,
   "id": "26949a02",
   "metadata": {
    "lines_to_next_cell": 0
   },
   "outputs": [],
   "source": [
    "pr.RS_R_FSM(fsm, 7, 8)"
   ]
  },
  {
   "cell_type": "code",
   "execution_count": null,
   "id": "66abc9a3",
   "metadata": {
    "lines_to_next_cell": 0
   },
   "outputs": [],
   "source": [
    "eim = ind.EIM_R_FSM(fsm)\n",
    "eim"
   ]
  },
  {
   "cell_type": "code",
   "execution_count": null,
   "id": "f0095c9c",
   "metadata": {
    "lines_to_next_cell": 0
   },
   "outputs": [],
   "source": [
    "c_delta = ind.C_Delta(eim)\n",
    "print(f\"{c_delta:.3f}\")"
   ]
  },
  {
   "cell_type": "code",
   "execution_count": null,
   "id": "9bad5529",
   "metadata": {
    "lines_to_next_cell": 0
   },
   "outputs": [],
   "source": [
    "c_star_delta = ind.C_star_Delta(eim)\n",
    "print(f\"{c_star_delta:.3f}\")"
   ]
  },
  {
   "cell_type": "code",
   "execution_count": null,
   "id": "4677c544",
   "metadata": {
    "lines_to_next_cell": 0
   },
   "outputs": [],
   "source": [
    "imes = ind.IMES(ess)\n",
    "imes"
   ]
  },
  {
   "cell_type": "code",
   "execution_count": null,
   "id": "36cfe7fd",
   "metadata": {
    "lines_to_next_cell": 0
   },
   "outputs": [],
   "source": [
    "comp_weights = pd.read_csv('conf/IMES_weights_FSM_R.csv', sep=';', index_col=0)\n",
    "comp_weights"
   ]
  },
  {
   "cell_type": "code",
   "execution_count": null,
   "id": "1e7da4e0",
   "metadata": {
    "lines_to_next_cell": 0
   },
   "outputs": [],
   "source": [
    "eim_star = ind.EIM_star_R_FSM(fsm, ess,comp_weights)\n",
    "eim_star"
   ]
  },
  {
   "cell_type": "code",
   "execution_count": null,
   "id": "5c9c73cc",
   "metadata": {
    "lines_to_next_cell": 0
   },
   "outputs": [],
   "source": [
    "c_delta = ind.C_Delta(eim_star)\n",
    "print(f\"{c_delta:.3f}\")"
   ]
  },
  {
   "cell_type": "code",
   "execution_count": null,
   "id": "d5baaf14",
   "metadata": {
    "lines_to_next_cell": 0
   },
   "outputs": [],
   "source": [
    "c_star_delta = ind.C_star_Delta(eim_star)\n",
    "print(f\"{c_star_delta:.3f}\")"
   ]
  },
  {
   "cell_type": "code",
   "execution_count": null,
   "id": "595dc38d",
   "metadata": {},
   "outputs": [],
   "source": []
  }
 ],
 "metadata": {
  "jupytext": {
   "cell_metadata_filter": "-all",
   "main_language": "python",
   "notebook_metadata_filter": "-all"
  }
 },
 "nbformat": 4,
 "nbformat_minor": 5
}
