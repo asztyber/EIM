{
 "cells": [
  {
   "cell_type": "markdown",
   "id": "53ba993a-192e-473a-b448-c6c20b022eb2",
   "metadata": {},
   "source": [
    "# Four tank system example - Fault Information System, column resoning"
   ]
  },
  {
   "cell_type": "code",
   "execution_count": 1,
   "id": "a738e446",
   "metadata": {},
   "outputs": [],
   "source": [
    "import pandas as pd\n",
    "from isolability import pairwise_relationships as pr\n",
    "from isolability import martices_and_indices as ind\n",
    "from four_tanks.es import ess"
   ]
  },
  {
   "cell_type": "markdown",
   "id": "5aed2157-5d07-4973-9499-e2962fef67e4",
   "metadata": {},
   "source": [
    "#### Fault Information System"
   ]
  },
  {
   "cell_type": "code",
   "execution_count": 2,
   "id": "31469214",
   "metadata": {
    "lines_to_next_cell": 0
   },
   "outputs": [
    {
     "data": {
      "text/html": [
       "<div>\n",
       "<style scoped>\n",
       "    .dataframe tbody tr th:only-of-type {\n",
       "        vertical-align: middle;\n",
       "    }\n",
       "\n",
       "    .dataframe tbody tr th {\n",
       "        vertical-align: top;\n",
       "    }\n",
       "\n",
       "    .dataframe thead th {\n",
       "        text-align: right;\n",
       "    }\n",
       "</style>\n",
       "<table border=\"1\" class=\"dataframe\">\n",
       "  <thead>\n",
       "    <tr style=\"text-align: right;\">\n",
       "      <th></th>\n",
       "      <th>f_1</th>\n",
       "      <th>f_2</th>\n",
       "      <th>f_3</th>\n",
       "      <th>f_4</th>\n",
       "      <th>f_5</th>\n",
       "      <th>f_6</th>\n",
       "      <th>f_7</th>\n",
       "      <th>f_8</th>\n",
       "      <th>f_9</th>\n",
       "      <th>f_10</th>\n",
       "    </tr>\n",
       "  </thead>\n",
       "  <tbody>\n",
       "    <tr>\n",
       "      <th>s_1</th>\n",
       "      <td>-1</td>\n",
       "      <td>-1</td>\n",
       "      <td>-1</td>\n",
       "      <td>-1</td>\n",
       "      <td>+1</td>\n",
       "      <td>+1</td>\n",
       "      <td>+1</td>\n",
       "      <td>-1,+1</td>\n",
       "      <td>-1,+1</td>\n",
       "      <td>0</td>\n",
       "    </tr>\n",
       "    <tr>\n",
       "      <th>s_2</th>\n",
       "      <td>-1</td>\n",
       "      <td>-1</td>\n",
       "      <td>-1</td>\n",
       "      <td>-1</td>\n",
       "      <td>-1</td>\n",
       "      <td>-1</td>\n",
       "      <td>-1</td>\n",
       "      <td>-1,+1</td>\n",
       "      <td>0</td>\n",
       "      <td>-1,+1</td>\n",
       "    </tr>\n",
       "    <tr>\n",
       "      <th>s_3</th>\n",
       "      <td>0</td>\n",
       "      <td>-1</td>\n",
       "      <td>-1</td>\n",
       "      <td>-1</td>\n",
       "      <td>-1</td>\n",
       "      <td>-1</td>\n",
       "      <td>-1</td>\n",
       "      <td>0</td>\n",
       "      <td>-1,+1</td>\n",
       "      <td>-1,+1</td>\n",
       "    </tr>\n",
       "  </tbody>\n",
       "</table>\n",
       "</div>"
      ],
      "text/plain": [
       "     f_1  f_2  f_3  f_4  f_5  f_6  f_7     f_8     f_9    f_10\n",
       "s_1   -1   -1   -1   -1   +1   +1   +1   -1,+1   -1,+1       0\n",
       "s_2   -1   -1   -1   -1   -1   -1   -1   -1,+1       0   -1,+1\n",
       "s_3    0   -1   -1   -1   -1   -1   -1       0   -1,+1   -1,+1"
      ]
     },
     "execution_count": 2,
     "metadata": {},
     "output_type": "execute_result"
    }
   ],
   "source": [
    "fis_df = pd.read_csv('four_tanks/fis.csv', sep=';', index_col=0, dtype=str)\n",
    "fis_df"
   ]
  },
  {
   "cell_type": "code",
   "execution_count": 3,
   "id": "5d745144",
   "metadata": {
    "lines_to_next_cell": 0
   },
   "outputs": [
    {
     "data": {
      "text/html": [
       "<div>\n",
       "<style scoped>\n",
       "    .dataframe tbody tr th:only-of-type {\n",
       "        vertical-align: middle;\n",
       "    }\n",
       "\n",
       "    .dataframe tbody tr th {\n",
       "        vertical-align: top;\n",
       "    }\n",
       "\n",
       "    .dataframe thead th {\n",
       "        text-align: right;\n",
       "    }\n",
       "</style>\n",
       "<table border=\"1\" class=\"dataframe\">\n",
       "  <thead>\n",
       "    <tr style=\"text-align: right;\">\n",
       "      <th></th>\n",
       "      <th>f_1</th>\n",
       "      <th>f_2</th>\n",
       "      <th>f_3</th>\n",
       "      <th>f_4</th>\n",
       "      <th>f_5</th>\n",
       "      <th>f_6</th>\n",
       "      <th>f_7</th>\n",
       "      <th>f_8</th>\n",
       "      <th>f_9</th>\n",
       "      <th>f_10</th>\n",
       "    </tr>\n",
       "  </thead>\n",
       "  <tbody>\n",
       "    <tr>\n",
       "      <th>s_1</th>\n",
       "      <td>{-1}</td>\n",
       "      <td>{-1}</td>\n",
       "      <td>{-1}</td>\n",
       "      <td>{-1}</td>\n",
       "      <td>{+1}</td>\n",
       "      <td>{+1}</td>\n",
       "      <td>{+1}</td>\n",
       "      <td>{-1, +1}</td>\n",
       "      <td>{-1, +1}</td>\n",
       "      <td>{0}</td>\n",
       "    </tr>\n",
       "    <tr>\n",
       "      <th>s_2</th>\n",
       "      <td>{-1}</td>\n",
       "      <td>{-1}</td>\n",
       "      <td>{-1}</td>\n",
       "      <td>{-1}</td>\n",
       "      <td>{-1}</td>\n",
       "      <td>{-1}</td>\n",
       "      <td>{-1}</td>\n",
       "      <td>{-1, +1}</td>\n",
       "      <td>{0}</td>\n",
       "      <td>{-1, +1}</td>\n",
       "    </tr>\n",
       "    <tr>\n",
       "      <th>s_3</th>\n",
       "      <td>{0}</td>\n",
       "      <td>{-1}</td>\n",
       "      <td>{-1}</td>\n",
       "      <td>{-1}</td>\n",
       "      <td>{-1}</td>\n",
       "      <td>{-1}</td>\n",
       "      <td>{-1}</td>\n",
       "      <td>{0}</td>\n",
       "      <td>{-1, +1}</td>\n",
       "      <td>{-1, +1}</td>\n",
       "    </tr>\n",
       "  </tbody>\n",
       "</table>\n",
       "</div>"
      ],
      "text/plain": [
       "      f_1   f_2   f_3   f_4   f_5   f_6   f_7       f_8       f_9      f_10\n",
       "s_1  {-1}  {-1}  {-1}  {-1}  {+1}  {+1}  {+1}  {-1, +1}  {-1, +1}       {0}\n",
       "s_2  {-1}  {-1}  {-1}  {-1}  {-1}  {-1}  {-1}  {-1, +1}       {0}  {-1, +1}\n",
       "s_3   {0}  {-1}  {-1}  {-1}  {-1}  {-1}  {-1}       {0}  {-1, +1}  {-1, +1}"
      ]
     },
     "execution_count": 3,
     "metadata": {},
     "output_type": "execute_result"
    }
   ],
   "source": [
    "fis_df = fis_df.map(lambda x: set(a.strip() for a in x.split(',')))\n",
    "fis_df"
   ]
  },
  {
   "cell_type": "markdown",
   "id": "6cbad608-7e90-44cd-b4d9-575c96e0973d",
   "metadata": {},
   "source": [
    "#### Exploration of pairwise isolabity relationships\n",
    "* Function arguments are fault **indices** starting from 0, so pr.RS_C_FIS(fis_df, 1, 2) checks faults $f_2$ and $f_3$\n",
    "* Avaliable relations:\n",
    "    - RN_C_FIS - non-isolable\n",
    "    - RUN_C_FIS - unilaterally non-isolable\n",
    "    - RUC_C_FIS - unilaterally conditionally isolable\n",
    "    - RC_C_FIS - bilaterally conditionally isolable\n",
    "    - RW_C_FIS - weakly isolable\n",
    "    - RS_C_FIS - strongly isolable"
   ]
  },
  {
   "cell_type": "code",
   "execution_count": 4,
   "id": "ca04cc02",
   "metadata": {
    "lines_to_next_cell": 0
   },
   "outputs": [
    {
     "data": {
      "text/plain": [
       "True"
      ]
     },
     "execution_count": 4,
     "metadata": {},
     "output_type": "execute_result"
    }
   ],
   "source": [
    "pr.RS_C_FIS(fis_df, 7, 8)"
   ]
  },
  {
   "cell_type": "markdown",
   "id": "0a4b25cd-aca9-4d37-81c5-a1b1a5b44020",
   "metadata": {},
   "source": [
    "#### EIM matrix"
   ]
  },
  {
   "cell_type": "code",
   "execution_count": 5,
   "id": "3de0e8cf",
   "metadata": {
    "lines_to_next_cell": 0
   },
   "outputs": [
    {
     "data": {
      "text/plain": [
       "array([[0. , 1. , 1. , 1. , 2. , 2. , 2. , 0. , 2. , 2. ],\n",
       "       [1. , 0. , 0. , 0. , 1. , 1. , 1. , 1. , 1. , 1. ],\n",
       "       [1. , 0. , 0. , 0. , 1. , 1. , 1. , 1. , 1. , 1. ],\n",
       "       [1. , 0. , 0. , 0. , 1. , 1. , 1. , 1. , 1. , 1. ],\n",
       "       [2. , 1. , 1. , 1. , 0. , 0. , 0. , 1. , 1. , 1. ],\n",
       "       [2. , 1. , 1. , 1. , 0. , 0. , 0. , 1. , 1. , 1. ],\n",
       "       [2. , 1. , 1. , 1. , 0. , 0. , 0. , 1. , 1. , 1. ],\n",
       "       [0.4, 1. , 1. , 1. , 1. , 1. , 1. , 0. , 2. , 2. ],\n",
       "       [2. , 1. , 1. , 1. , 1. , 1. , 1. , 2. , 0. , 2. ],\n",
       "       [2. , 1. , 1. , 1. , 1. , 1. , 1. , 2. , 2. , 0. ]])"
      ]
     },
     "execution_count": 5,
     "metadata": {},
     "output_type": "execute_result"
    }
   ],
   "source": [
    "eim = ind.EIM_C_FIS(fis_df)\n",
    "eim"
   ]
  },
  {
   "cell_type": "markdown",
   "id": "c5c4937d-b422-40bb-a8e6-a49e7a4f051d",
   "metadata": {},
   "source": [
    "#### $C\\Delta$ coefficient"
   ]
  },
  {
   "cell_type": "code",
   "execution_count": 6,
   "id": "1d451fa7",
   "metadata": {
    "lines_to_next_cell": 0
   },
   "outputs": [
    {
     "name": "stdout",
     "output_type": "stream",
     "text": [
      "1.027\n"
     ]
    }
   ],
   "source": [
    "c_delta = ind.C_Delta(eim)\n",
    "print(f\"{c_delta:.3f}\")"
   ]
  },
  {
   "cell_type": "markdown",
   "id": "3c990bd0-2af9-4d7f-90a8-f998295a4ef9",
   "metadata": {},
   "source": [
    "#### $C^*\\Delta$ coefficient"
   ]
  },
  {
   "cell_type": "code",
   "execution_count": 7,
   "id": "1c5bdb11",
   "metadata": {
    "lines_to_next_cell": 0
   },
   "outputs": [
    {
     "name": "stdout",
     "output_type": "stream",
     "text": [
      "0.849\n"
     ]
    }
   ],
   "source": [
    "c_star_delta = ind.C_star_Delta(eim)\n",
    "print(f\"{c_star_delta:.3f}\")"
   ]
  },
  {
   "cell_type": "markdown",
   "id": "02410571-cb51-4fe2-a524-acdfc0a678f9",
   "metadata": {},
   "source": [
    "#### IMES matrix"
   ]
  },
  {
   "cell_type": "code",
   "execution_count": 8,
   "id": "54836b5e",
   "metadata": {
    "lines_to_next_cell": 0
   },
   "outputs": [
    {
     "data": {
      "text/plain": [
       "array([[0., 0., 1., 1., 0., 0., 1., 0., 0., 0.],\n",
       "       [0., 0., 1., 1., 0., 0., 1., 0., 0., 0.],\n",
       "       [1., 1., 0., 0., 1., 0., 0., 0., 0., 0.],\n",
       "       [1., 1., 0., 0., 1., 0., 0., 0., 0., 0.],\n",
       "       [0., 0., 1., 1., 0., 0., 1., 0., 0., 0.],\n",
       "       [0., 0., 0., 0., 0., 0., 0., 0., 0., 0.],\n",
       "       [1., 1., 0., 0., 1., 0., 0., 0., 0., 0.],\n",
       "       [0., 0., 0., 0., 0., 0., 0., 0., 0., 0.],\n",
       "       [0., 0., 0., 0., 0., 0., 0., 0., 0., 0.],\n",
       "       [0., 0., 0., 0., 0., 0., 0., 0., 0., 0.]])"
      ]
     },
     "execution_count": 8,
     "metadata": {},
     "output_type": "execute_result"
    }
   ],
   "source": [
    "imes = ind.IMES(ess)\n",
    "imes"
   ]
  },
  {
   "cell_type": "markdown",
   "id": "accc9bff-9515-45e4-8488-6d6f86fd93e1",
   "metadata": {},
   "source": [
    "#### Weights for composition of EIM and IMES"
   ]
  },
  {
   "cell_type": "code",
   "execution_count": 9,
   "id": "c740fd27",
   "metadata": {
    "lines_to_next_cell": 0
   },
   "outputs": [
    {
     "data": {
      "text/html": [
       "<div>\n",
       "<style scoped>\n",
       "    .dataframe tbody tr th:only-of-type {\n",
       "        vertical-align: middle;\n",
       "    }\n",
       "\n",
       "    .dataframe tbody tr th {\n",
       "        vertical-align: top;\n",
       "    }\n",
       "\n",
       "    .dataframe thead th {\n",
       "        text-align: right;\n",
       "    }\n",
       "</style>\n",
       "<table border=\"1\" class=\"dataframe\">\n",
       "  <thead>\n",
       "    <tr style=\"text-align: right;\">\n",
       "      <th></th>\n",
       "      <th>RW_ES</th>\n",
       "      <th>RJW_ES</th>\n",
       "      <th>RN_ES</th>\n",
       "    </tr>\n",
       "  </thead>\n",
       "  <tbody>\n",
       "    <tr>\n",
       "      <th>RS_Cn_FIS</th>\n",
       "      <td>2.0</td>\n",
       "      <td>2.0</td>\n",
       "      <td>2.0</td>\n",
       "    </tr>\n",
       "    <tr>\n",
       "      <th>RW_C_FIS</th>\n",
       "      <td>2.0</td>\n",
       "      <td>1.5</td>\n",
       "      <td>1.0</td>\n",
       "    </tr>\n",
       "    <tr>\n",
       "      <th>RC_C_FIS</th>\n",
       "      <td>1.7</td>\n",
       "      <td>1.2</td>\n",
       "      <td>0.7</td>\n",
       "    </tr>\n",
       "    <tr>\n",
       "      <th>RUC_C_FIS</th>\n",
       "      <td>1.4</td>\n",
       "      <td>0.7</td>\n",
       "      <td>0.4</td>\n",
       "    </tr>\n",
       "    <tr>\n",
       "      <th>RUN_C_FIS</th>\n",
       "      <td>1.0</td>\n",
       "      <td>0.5</td>\n",
       "      <td>0.0</td>\n",
       "    </tr>\n",
       "    <tr>\n",
       "      <th>RN_C_FIS</th>\n",
       "      <td>1.0</td>\n",
       "      <td>0.5</td>\n",
       "      <td>0.0</td>\n",
       "    </tr>\n",
       "  </tbody>\n",
       "</table>\n",
       "</div>"
      ],
      "text/plain": [
       "           RW_ES   RJW_ES   RN_ES\n",
       "RS_Cn_FIS    2.0      2.0     2.0\n",
       "RW_C_FIS     2.0      1.5     1.0\n",
       "RC_C_FIS     1.7      1.2     0.7\n",
       "RUC_C_FIS    1.4      0.7     0.4\n",
       "RUN_C_FIS    1.0      0.5     0.0\n",
       "RN_C_FIS     1.0      0.5     0.0"
      ]
     },
     "execution_count": 9,
     "metadata": {},
     "output_type": "execute_result"
    }
   ],
   "source": [
    "comp_weights = pd.read_csv('conf/IMES_weights_FIS_C.csv', sep=';', index_col=0)\n",
    "comp_weights"
   ]
  },
  {
   "cell_type": "markdown",
   "id": "77a85aa2-57d6-41ba-9ec5-5a6291143c00",
   "metadata": {},
   "source": [
    "#### EIM$^*$"
   ]
  },
  {
   "cell_type": "code",
   "execution_count": 10,
   "id": "1d6d4d53",
   "metadata": {
    "lines_to_next_cell": 0
   },
   "outputs": [
    {
     "data": {
      "text/plain": [
       "array([[0. , 1. , 2. , 2. , 2. , 2. , 2. , 0. , 2. , 2. ],\n",
       "       [1. , 0. , 1. , 1. , 1. , 1. , 2. , 1. , 1. , 1. ],\n",
       "       [2. , 1. , 0. , 0. , 2. , 1. , 1. , 1. , 1. , 1. ],\n",
       "       [2. , 1. , 0. , 0. , 2. , 1. , 1. , 1. , 1. , 1. ],\n",
       "       [2. , 1. , 2. , 2. , 0. , 0. , 1. , 1. , 1. , 1. ],\n",
       "       [2. , 1. , 1. , 1. , 0. , 0. , 0. , 1. , 1. , 1. ],\n",
       "       [2. , 2. , 1. , 1. , 1. , 0. , 0. , 1. , 1. , 1. ],\n",
       "       [0.4, 1. , 1. , 1. , 1. , 1. , 1. , 0. , 2. , 2. ],\n",
       "       [2. , 1. , 1. , 1. , 1. , 1. , 1. , 2. , 0. , 2. ],\n",
       "       [2. , 1. , 1. , 1. , 1. , 1. , 1. , 2. , 2. , 0. ]])"
      ]
     },
     "execution_count": 10,
     "metadata": {},
     "output_type": "execute_result"
    }
   ],
   "source": [
    "eim_star = ind.EIM_star_C_FIS(fis_df, ess, comp_weights)\n",
    "eim_star"
   ]
  },
  {
   "cell_type": "markdown",
   "id": "90eb0d13-9ee3-4aca-8b6d-1d4ecf03ecae",
   "metadata": {},
   "source": [
    "#### $C \\Delta (EIM^*)$"
   ]
  },
  {
   "cell_type": "code",
   "execution_count": 11,
   "id": "8174717a",
   "metadata": {
    "lines_to_next_cell": 0
   },
   "outputs": [
    {
     "name": "stdout",
     "output_type": "stream",
     "text": [
      "1.204\n"
     ]
    }
   ],
   "source": [
    "c_delta = ind.C_Delta(eim_star)\n",
    "print(f\"{c_delta:.3f}\")"
   ]
  },
  {
   "cell_type": "markdown",
   "id": "d04dba69-c591-4197-8f93-b42cc2414728",
   "metadata": {},
   "source": [
    "#### $C^* \\Delta (EIM^*)$"
   ]
  },
  {
   "cell_type": "code",
   "execution_count": 12,
   "id": "6c6a7154",
   "metadata": {
    "lines_to_next_cell": 0
   },
   "outputs": [
    {
     "name": "stdout",
     "output_type": "stream",
     "text": [
      "0.916\n"
     ]
    }
   ],
   "source": [
    "c_star_delta = ind.C_star_Delta(eim_star)\n",
    "print(f\"{c_star_delta:.3f}\")"
   ]
  }
 ],
 "metadata": {
  "jupytext": {
   "cell_metadata_filter": "-all",
   "main_language": "python",
   "notebook_metadata_filter": "-all"
  },
  "kernelspec": {
   "display_name": "Python 3 (ipykernel)",
   "language": "python",
   "name": "python3"
  },
  "language_info": {
   "codemirror_mode": {
    "name": "ipython",
    "version": 3
   },
   "file_extension": ".py",
   "mimetype": "text/x-python",
   "name": "python",
   "nbconvert_exporter": "python",
   "pygments_lexer": "ipython3",
   "version": "3.11.0rc1"
  }
 },
 "nbformat": 4,
 "nbformat_minor": 5
}
