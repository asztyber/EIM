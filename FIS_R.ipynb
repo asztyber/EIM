{
 "cells": [
  {
   "cell_type": "markdown",
   "id": "3ad4e467-0803-4bd3-9ac1-bc71c741e087",
   "metadata": {},
   "source": [
    "# Four tank system example - Fault Information System, row resoning"
   ]
  },
  {
   "cell_type": "code",
   "execution_count": 1,
   "id": "777a5281",
   "metadata": {},
   "outputs": [],
   "source": [
    "import pandas as pd\n",
    "from isolability import pairwise_relationships as pr\n",
    "from isolability import martices_and_indices as ind\n",
    "from four_tanks.es import ess"
   ]
  },
  {
   "cell_type": "markdown",
   "id": "46801966-1cc0-42a2-b916-023f98ed5f83",
   "metadata": {},
   "source": [
    "#### Fault Information System"
   ]
  },
  {
   "cell_type": "code",
   "execution_count": 2,
   "id": "6bf8ac95",
   "metadata": {
    "lines_to_next_cell": 0
   },
   "outputs": [
    {
     "data": {
      "text/html": [
       "<div>\n",
       "<style scoped>\n",
       "    .dataframe tbody tr th:only-of-type {\n",
       "        vertical-align: middle;\n",
       "    }\n",
       "\n",
       "    .dataframe tbody tr th {\n",
       "        vertical-align: top;\n",
       "    }\n",
       "\n",
       "    .dataframe thead th {\n",
       "        text-align: right;\n",
       "    }\n",
       "</style>\n",
       "<table border=\"1\" class=\"dataframe\">\n",
       "  <thead>\n",
       "    <tr style=\"text-align: right;\">\n",
       "      <th></th>\n",
       "      <th>f_1</th>\n",
       "      <th>f_2</th>\n",
       "      <th>f_3</th>\n",
       "      <th>f_4</th>\n",
       "      <th>f_5</th>\n",
       "      <th>f_6</th>\n",
       "      <th>f_7</th>\n",
       "      <th>f_8</th>\n",
       "      <th>f_9</th>\n",
       "      <th>f_10</th>\n",
       "    </tr>\n",
       "  </thead>\n",
       "  <tbody>\n",
       "    <tr>\n",
       "      <th>s_1</th>\n",
       "      <td>-1</td>\n",
       "      <td>-1</td>\n",
       "      <td>-1</td>\n",
       "      <td>-1</td>\n",
       "      <td>+1</td>\n",
       "      <td>+1</td>\n",
       "      <td>+1</td>\n",
       "      <td>-1,+1</td>\n",
       "      <td>-1,+1</td>\n",
       "      <td>0</td>\n",
       "    </tr>\n",
       "    <tr>\n",
       "      <th>s_2</th>\n",
       "      <td>-1</td>\n",
       "      <td>-1</td>\n",
       "      <td>-1</td>\n",
       "      <td>-1</td>\n",
       "      <td>-1</td>\n",
       "      <td>-1</td>\n",
       "      <td>-1</td>\n",
       "      <td>-1,+1</td>\n",
       "      <td>0</td>\n",
       "      <td>-1,+1</td>\n",
       "    </tr>\n",
       "    <tr>\n",
       "      <th>s_3</th>\n",
       "      <td>0</td>\n",
       "      <td>-1</td>\n",
       "      <td>-1</td>\n",
       "      <td>-1</td>\n",
       "      <td>-1</td>\n",
       "      <td>-1</td>\n",
       "      <td>-1</td>\n",
       "      <td>0</td>\n",
       "      <td>-1,+1</td>\n",
       "      <td>-1,+1</td>\n",
       "    </tr>\n",
       "  </tbody>\n",
       "</table>\n",
       "</div>"
      ],
      "text/plain": [
       "     f_1  f_2  f_3  f_4  f_5  f_6  f_7     f_8     f_9    f_10\n",
       "s_1   -1   -1   -1   -1   +1   +1   +1   -1,+1   -1,+1       0\n",
       "s_2   -1   -1   -1   -1   -1   -1   -1   -1,+1       0   -1,+1\n",
       "s_3    0   -1   -1   -1   -1   -1   -1       0   -1,+1   -1,+1"
      ]
     },
     "execution_count": 2,
     "metadata": {},
     "output_type": "execute_result"
    }
   ],
   "source": [
    "fis_df = pd.read_csv('four_tanks/fis.csv', sep=';', index_col=0, dtype=str)\n",
    "fis_df"
   ]
  },
  {
   "cell_type": "code",
   "execution_count": 3,
   "id": "dbd03f00",
   "metadata": {
    "lines_to_next_cell": 0
   },
   "outputs": [
    {
     "data": {
      "text/html": [
       "<div>\n",
       "<style scoped>\n",
       "    .dataframe tbody tr th:only-of-type {\n",
       "        vertical-align: middle;\n",
       "    }\n",
       "\n",
       "    .dataframe tbody tr th {\n",
       "        vertical-align: top;\n",
       "    }\n",
       "\n",
       "    .dataframe thead th {\n",
       "        text-align: right;\n",
       "    }\n",
       "</style>\n",
       "<table border=\"1\" class=\"dataframe\">\n",
       "  <thead>\n",
       "    <tr style=\"text-align: right;\">\n",
       "      <th></th>\n",
       "      <th>f_1</th>\n",
       "      <th>f_2</th>\n",
       "      <th>f_3</th>\n",
       "      <th>f_4</th>\n",
       "      <th>f_5</th>\n",
       "      <th>f_6</th>\n",
       "      <th>f_7</th>\n",
       "      <th>f_8</th>\n",
       "      <th>f_9</th>\n",
       "      <th>f_10</th>\n",
       "    </tr>\n",
       "  </thead>\n",
       "  <tbody>\n",
       "    <tr>\n",
       "      <th>s_1</th>\n",
       "      <td>{-1}</td>\n",
       "      <td>{-1}</td>\n",
       "      <td>{-1}</td>\n",
       "      <td>{-1}</td>\n",
       "      <td>{+1}</td>\n",
       "      <td>{+1}</td>\n",
       "      <td>{+1}</td>\n",
       "      <td>{+1, -1}</td>\n",
       "      <td>{+1, -1}</td>\n",
       "      <td>{0}</td>\n",
       "    </tr>\n",
       "    <tr>\n",
       "      <th>s_2</th>\n",
       "      <td>{-1}</td>\n",
       "      <td>{-1}</td>\n",
       "      <td>{-1}</td>\n",
       "      <td>{-1}</td>\n",
       "      <td>{-1}</td>\n",
       "      <td>{-1}</td>\n",
       "      <td>{-1}</td>\n",
       "      <td>{+1, -1}</td>\n",
       "      <td>{0}</td>\n",
       "      <td>{+1, -1}</td>\n",
       "    </tr>\n",
       "    <tr>\n",
       "      <th>s_3</th>\n",
       "      <td>{0}</td>\n",
       "      <td>{-1}</td>\n",
       "      <td>{-1}</td>\n",
       "      <td>{-1}</td>\n",
       "      <td>{-1}</td>\n",
       "      <td>{-1}</td>\n",
       "      <td>{-1}</td>\n",
       "      <td>{0}</td>\n",
       "      <td>{+1, -1}</td>\n",
       "      <td>{+1, -1}</td>\n",
       "    </tr>\n",
       "  </tbody>\n",
       "</table>\n",
       "</div>"
      ],
      "text/plain": [
       "      f_1   f_2   f_3   f_4   f_5   f_6   f_7       f_8       f_9      f_10\n",
       "s_1  {-1}  {-1}  {-1}  {-1}  {+1}  {+1}  {+1}  {+1, -1}  {+1, -1}       {0}\n",
       "s_2  {-1}  {-1}  {-1}  {-1}  {-1}  {-1}  {-1}  {+1, -1}       {0}  {+1, -1}\n",
       "s_3   {0}  {-1}  {-1}  {-1}  {-1}  {-1}  {-1}       {0}  {+1, -1}  {+1, -1}"
      ]
     },
     "execution_count": 3,
     "metadata": {},
     "output_type": "execute_result"
    }
   ],
   "source": [
    "fis_df = fis_df.map(lambda x: set(a.strip() for a in x.split(',')))\n",
    "fis_df"
   ]
  },
  {
   "cell_type": "markdown",
   "id": "8a2d4d0f-fb22-4189-966c-b94daeafc6cd",
   "metadata": {},
   "source": [
    "#### Exploration of pairwise isolabity relationships\n",
    "* Function arguments are fault **indices** starting from 0, so pr.RS_R_FIS(fis_df, 1, 2) checks faults $f_2$ and $f_3$\n",
    "* Avaliable relations:\n",
    "    - RN_R_FIS - non-isolable\n",
    "    - RUN_R_FIS - unilaterally non-isolable\n",
    "    - RUW_R_FIS - unilaterally (weakly) isolable\n",
    "    - RW_R_FIS - bilaterally (weakly) isolable\n",
    "    - RUC_R_FIS - unilaterally conditionally isolable\n",
    "    - RC_R_FIS - bilaterally conditionally isolable\n",
    "    - RUS_R_FIS - unilaterally strongly isolable\n",
    "    - RS_R_FIS - bilaterally strongly isolable"
   ]
  },
  {
   "cell_type": "code",
   "execution_count": 5,
   "id": "1c5f8d33",
   "metadata": {
    "lines_to_next_cell": 0
   },
   "outputs": [
    {
     "data": {
      "text/plain": [
       "False"
      ]
     },
     "execution_count": 5,
     "metadata": {},
     "output_type": "execute_result"
    }
   ],
   "source": [
    "pr.RS_R_FIS(fis_df, 7, 8)"
   ]
  },
  {
   "cell_type": "markdown",
   "id": "5d0d8f28-d9b8-4c28-8bd2-8b40e8f118ab",
   "metadata": {},
   "source": [
    "#### EIM matrix"
   ]
  },
  {
   "cell_type": "code",
   "execution_count": 6,
   "id": "08332f62",
   "metadata": {
    "lines_to_next_cell": 0
   },
   "outputs": [
    {
     "data": {
      "text/plain": [
       "array([[0. , 0. , 0. , 0. , 1. , 1. , 1. , 0. , 1. , 1. ],\n",
       "       [1. , 0. , 0. , 0. , 1. , 1. , 1. , 1. , 1. , 1. ],\n",
       "       [1. , 0. , 0. , 0. , 1. , 1. , 1. , 1. , 1. , 1. ],\n",
       "       [1. , 0. , 0. , 0. , 1. , 1. , 1. , 1. , 1. , 1. ],\n",
       "       [1. , 1. , 1. , 1. , 0. , 0. , 0. , 1. , 1. , 1. ],\n",
       "       [1. , 1. , 1. , 1. , 0. , 0. , 0. , 1. , 1. , 1. ],\n",
       "       [1. , 1. , 1. , 1. , 0. , 0. , 0. , 1. , 1. , 1. ],\n",
       "       [0.4, 0. , 0. , 0. , 0. , 0. , 0. , 0. , 1. , 1. ],\n",
       "       [1. , 0. , 0. , 0. , 0. , 0. , 0. , 1. , 0. , 1. ],\n",
       "       [1. , 0. , 0. , 0. , 0. , 0. , 0. , 1. , 1. , 0. ]])"
      ]
     },
     "execution_count": 6,
     "metadata": {},
     "output_type": "execute_result"
    }
   ],
   "source": [
    "eim = ind.EIM_R_FIS(fis_df)\n",
    "eim"
   ]
  },
  {
   "cell_type": "markdown",
   "id": "c7324db7-0a5a-49a2-bf51-566f7d729103",
   "metadata": {},
   "source": [
    "#### $C\\Delta$ coefficient"
   ]
  },
  {
   "cell_type": "code",
   "execution_count": 7,
   "id": "66a2d3bd",
   "metadata": {
    "lines_to_next_cell": 0
   },
   "outputs": [
    {
     "name": "stdout",
     "output_type": "stream",
     "text": [
      "0.616\n"
     ]
    }
   ],
   "source": [
    "c_delta = ind.C_Delta(eim)\n",
    "print(f\"{c_delta:.3f}\")"
   ]
  },
  {
   "cell_type": "markdown",
   "id": "66a830b5-2beb-436d-925c-a278daccc735",
   "metadata": {},
   "source": [
    "#### $C^*\\Delta$ coefficient"
   ]
  },
  {
   "cell_type": "code",
   "execution_count": 8,
   "id": "e8877bc4",
   "metadata": {
    "lines_to_next_cell": 0
   },
   "outputs": [
    {
     "name": "stdout",
     "output_type": "stream",
     "text": [
      "0.616\n"
     ]
    }
   ],
   "source": [
    "c_star_delta = ind.C_star_Delta(eim)\n",
    "print(f\"{c_star_delta:.3f}\")"
   ]
  },
  {
   "cell_type": "markdown",
   "id": "eb880486-5e1b-4cec-8200-c2933fb6eaed",
   "metadata": {},
   "source": [
    "#### IMES matrix"
   ]
  },
  {
   "cell_type": "code",
   "execution_count": 9,
   "id": "f6e82a26",
   "metadata": {
    "lines_to_next_cell": 0
   },
   "outputs": [
    {
     "data": {
      "text/plain": [
       "array([[0., 0., 1., 1., 0., 0., 1., 0., 0., 0.],\n",
       "       [0., 0., 1., 1., 0., 0., 1., 0., 0., 0.],\n",
       "       [1., 1., 0., 0., 1., 0., 0., 0., 0., 0.],\n",
       "       [1., 1., 0., 0., 1., 0., 0., 0., 0., 0.],\n",
       "       [0., 0., 1., 1., 0., 0., 1., 0., 0., 0.],\n",
       "       [0., 0., 0., 0., 0., 0., 0., 0., 0., 0.],\n",
       "       [1., 1., 0., 0., 1., 0., 0., 0., 0., 0.],\n",
       "       [0., 0., 0., 0., 0., 0., 0., 0., 0., 0.],\n",
       "       [0., 0., 0., 0., 0., 0., 0., 0., 0., 0.],\n",
       "       [0., 0., 0., 0., 0., 0., 0., 0., 0., 0.]])"
      ]
     },
     "execution_count": 9,
     "metadata": {},
     "output_type": "execute_result"
    }
   ],
   "source": [
    "imes = ind.IMES(ess)\n",
    "imes"
   ]
  },
  {
   "cell_type": "code",
   "execution_count": 11,
   "id": "33e9e933",
   "metadata": {
    "lines_to_next_cell": 0
   },
   "outputs": [
    {
     "data": {
      "text/html": [
       "<div>\n",
       "<style scoped>\n",
       "    .dataframe tbody tr th:only-of-type {\n",
       "        vertical-align: middle;\n",
       "    }\n",
       "\n",
       "    .dataframe tbody tr th {\n",
       "        vertical-align: top;\n",
       "    }\n",
       "\n",
       "    .dataframe thead th {\n",
       "        text-align: right;\n",
       "    }\n",
       "</style>\n",
       "<table border=\"1\" class=\"dataframe\">\n",
       "  <thead>\n",
       "    <tr style=\"text-align: right;\">\n",
       "      <th></th>\n",
       "      <th>RW_ES</th>\n",
       "      <th>RJW_ES</th>\n",
       "      <th>RN_ES</th>\n",
       "    </tr>\n",
       "  </thead>\n",
       "  <tbody>\n",
       "    <tr>\n",
       "      <th>RS_Rn_FIS</th>\n",
       "      <td>2.0</td>\n",
       "      <td>2.0</td>\n",
       "      <td>2.0</td>\n",
       "    </tr>\n",
       "    <tr>\n",
       "      <th>RUS_Rn_FIS</th>\n",
       "      <td>2.0</td>\n",
       "      <td>2.0</td>\n",
       "      <td>1.5</td>\n",
       "    </tr>\n",
       "    <tr>\n",
       "      <th>RW_R_FIS</th>\n",
       "      <td>2.0</td>\n",
       "      <td>1.5</td>\n",
       "      <td>1.0</td>\n",
       "    </tr>\n",
       "    <tr>\n",
       "      <th>RUW_R_FIS</th>\n",
       "      <td>2.0</td>\n",
       "      <td>1.5</td>\n",
       "      <td>1.0</td>\n",
       "    </tr>\n",
       "    <tr>\n",
       "      <th>RC_R_FIS</th>\n",
       "      <td>1.7</td>\n",
       "      <td>1.2</td>\n",
       "      <td>0.7</td>\n",
       "    </tr>\n",
       "    <tr>\n",
       "      <th>RUC_R_FIS</th>\n",
       "      <td>1.4</td>\n",
       "      <td>0.9</td>\n",
       "      <td>0.4</td>\n",
       "    </tr>\n",
       "    <tr>\n",
       "      <th>RUN_R_FIS</th>\n",
       "      <td>1.0</td>\n",
       "      <td>0.5</td>\n",
       "      <td>0.0</td>\n",
       "    </tr>\n",
       "    <tr>\n",
       "      <th>RN_R_FIS</th>\n",
       "      <td>1.0</td>\n",
       "      <td>0.5</td>\n",
       "      <td>0.0</td>\n",
       "    </tr>\n",
       "  </tbody>\n",
       "</table>\n",
       "</div>"
      ],
      "text/plain": [
       "            RW_ES   RJW_ES   RN_ES\n",
       "RS_Rn_FIS     2.0      2.0     2.0\n",
       "RUS_Rn_FIS    2.0      2.0     1.5\n",
       "RW_R_FIS      2.0      1.5     1.0\n",
       "RUW_R_FIS     2.0      1.5     1.0\n",
       "RC_R_FIS      1.7      1.2     0.7\n",
       "RUC_R_FIS     1.4      0.9     0.4\n",
       "RUN_R_FIS     1.0      0.5     0.0\n",
       "RN_R_FIS      1.0      0.5     0.0"
      ]
     },
     "execution_count": 11,
     "metadata": {},
     "output_type": "execute_result"
    }
   ],
   "source": [
    "comp_weights = pd.read_csv('conf/IMES_weights_FIS_R.csv', sep=';', index_col=0)\n",
    "comp_weights"
   ]
  },
  {
   "cell_type": "code",
   "execution_count": 12,
   "id": "587fbeb7",
   "metadata": {
    "lines_to_next_cell": 0
   },
   "outputs": [
    {
     "data": {
      "text/plain": [
       "array([[0. , 0. , 1. , 1. , 1. , 1. , 2. , 0. , 1. , 1. ],\n",
       "       [1. , 0. , 1. , 1. , 1. , 1. , 2. , 1. , 1. , 1. ],\n",
       "       [2. , 1. , 0. , 0. , 2. , 1. , 1. , 1. , 1. , 1. ],\n",
       "       [2. , 1. , 0. , 0. , 2. , 1. , 1. , 1. , 1. , 1. ],\n",
       "       [1. , 1. , 2. , 2. , 0. , 0. , 1. , 1. , 1. , 1. ],\n",
       "       [1. , 1. , 1. , 1. , 0. , 0. , 0. , 1. , 1. , 1. ],\n",
       "       [2. , 2. , 1. , 1. , 1. , 0. , 0. , 1. , 1. , 1. ],\n",
       "       [0.4, 0. , 0. , 0. , 0. , 0. , 0. , 0. , 1. , 1. ],\n",
       "       [1. , 0. , 0. , 0. , 0. , 0. , 0. , 1. , 0. , 1. ],\n",
       "       [1. , 0. , 0. , 0. , 0. , 0. , 0. , 1. , 1. , 0. ]])"
      ]
     },
     "execution_count": 12,
     "metadata": {},
     "output_type": "execute_result"
    }
   ],
   "source": [
    "eim_star = ind.EIM_star_R_FIS(fis_df, ess, comp_weights)\n",
    "eim_star"
   ]
  },
  {
   "cell_type": "code",
   "execution_count": 13,
   "id": "307d9c57",
   "metadata": {
    "lines_to_next_cell": 0
   },
   "outputs": [
    {
     "name": "stdout",
     "output_type": "stream",
     "text": [
      "0.816\n"
     ]
    }
   ],
   "source": [
    "c_delta = ind.C_Delta(eim_star)\n",
    "print(f\"{c_delta:.3f}\")"
   ]
  },
  {
   "cell_type": "code",
   "execution_count": 14,
   "id": "021e0d19",
   "metadata": {
    "lines_to_next_cell": 0
   },
   "outputs": [
    {
     "name": "stdout",
     "output_type": "stream",
     "text": [
      "0.704\n"
     ]
    }
   ],
   "source": [
    "c_star_delta = ind.C_star_Delta(eim_star)\n",
    "print(f\"{c_star_delta:.3f}\")"
   ]
  },
  {
   "cell_type": "code",
   "execution_count": null,
   "id": "7c65f6bd",
   "metadata": {},
   "outputs": [],
   "source": []
  }
 ],
 "metadata": {
  "jupytext": {
   "cell_metadata_filter": "-all",
   "main_language": "python",
   "notebook_metadata_filter": "-all"
  },
  "kernelspec": {
   "display_name": "Python 3 (ipykernel)",
   "language": "python",
   "name": "python3"
  },
  "language_info": {
   "codemirror_mode": {
    "name": "ipython",
    "version": 3
   },
   "file_extension": ".py",
   "mimetype": "text/x-python",
   "name": "python",
   "nbconvert_exporter": "python",
   "pygments_lexer": "ipython3",
   "version": "3.11.0rc1"
  }
 },
 "nbformat": 4,
 "nbformat_minor": 5
}
