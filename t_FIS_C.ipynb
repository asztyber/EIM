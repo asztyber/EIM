{
 "cells": [
  {
   "cell_type": "code",
   "execution_count": null,
   "id": "a738e446",
   "metadata": {},
   "outputs": [],
   "source": [
    "import pandas as pd\n",
    "from isolability import pairwise_relationships as pr\n",
    "import isolability.martices_and_indices as ind\n",
    "from four_tanks.es import ess\n",
    "\n",
    "import importlib\n",
    "importlib.reload(pr)\n",
    "importlib.reload(ind)"
   ]
  },
  {
   "cell_type": "code",
   "execution_count": null,
   "id": "31469214",
   "metadata": {
    "lines_to_next_cell": 0
   },
   "outputs": [],
   "source": [
    "fis_df = pd.read_csv('four_tanks/fis.csv', sep=';', index_col=0, dtype=str)\n",
    "fis_df"
   ]
  },
  {
   "cell_type": "code",
   "execution_count": null,
   "id": "5d745144",
   "metadata": {
    "lines_to_next_cell": 0
   },
   "outputs": [],
   "source": [
    "fis_df = fis_df.map(lambda x: set(a.strip() for a in x.split(',')))\n",
    "fis_df"
   ]
  },
  {
   "cell_type": "code",
   "execution_count": null,
   "id": "ca04cc02",
   "metadata": {
    "lines_to_next_cell": 0
   },
   "outputs": [],
   "source": [
    "pr.RS_C_FIS(fis_df, 7, 8)"
   ]
  },
  {
   "cell_type": "code",
   "execution_count": null,
   "id": "3de0e8cf",
   "metadata": {
    "lines_to_next_cell": 0
   },
   "outputs": [],
   "source": [
    "eim = ind.EIM_C_FIS(fis_df)\n",
    "eim"
   ]
  },
  {
   "cell_type": "code",
   "execution_count": null,
   "id": "1d451fa7",
   "metadata": {
    "lines_to_next_cell": 0
   },
   "outputs": [],
   "source": [
    "c_delta = ind.C_Delta(eim)\n",
    "print(f\"{c_delta:.3f}\")"
   ]
  },
  {
   "cell_type": "code",
   "execution_count": null,
   "id": "1c5bdb11",
   "metadata": {
    "lines_to_next_cell": 0
   },
   "outputs": [],
   "source": [
    "c_star_delta = ind.C_star_Delta(eim)\n",
    "print(f\"{c_star_delta:.3f}\")"
   ]
  },
  {
   "cell_type": "code",
   "execution_count": null,
   "id": "54836b5e",
   "metadata": {
    "lines_to_next_cell": 0
   },
   "outputs": [],
   "source": [
    "imes = ind.IMES(ess)\n",
    "imes"
   ]
  },
  {
   "cell_type": "code",
   "execution_count": null,
   "id": "c740fd27",
   "metadata": {
    "lines_to_next_cell": 0
   },
   "outputs": [],
   "source": [
    "comp_weights = pd.read_csv('conf/IMES_weights_FIS_C.csv', sep=';', index_col=0)\n",
    "comp_weights"
   ]
  },
  {
   "cell_type": "code",
   "execution_count": null,
   "id": "1d6d4d53",
   "metadata": {
    "lines_to_next_cell": 0
   },
   "outputs": [],
   "source": [
    "eim_star = ind.EIM_star_C_FIS(fis_df, ess, comp_weights)\n",
    "eim_star"
   ]
  },
  {
   "cell_type": "code",
   "execution_count": null,
   "id": "8174717a",
   "metadata": {
    "lines_to_next_cell": 0
   },
   "outputs": [],
   "source": [
    "c_delta = ind.C_Delta(eim_star)\n",
    "print(f\"{c_delta:.3f}\")"
   ]
  },
  {
   "cell_type": "code",
   "execution_count": null,
   "id": "6c6a7154",
   "metadata": {
    "lines_to_next_cell": 0
   },
   "outputs": [],
   "source": [
    "c_star_delta = ind.C_star_Delta(eim_star)\n",
    "print(f\"{c_star_delta:.3f}\")"
   ]
  },
  {
   "cell_type": "code",
   "execution_count": null,
   "id": "41d7d051",
   "metadata": {},
   "outputs": [],
   "source": []
  }
 ],
 "metadata": {
  "jupytext": {
   "cell_metadata_filter": "-all",
   "main_language": "python",
   "notebook_metadata_filter": "-all"
  },
  "kernelspec": {
   "display_name": "diags",
   "language": "python",
   "name": "diags"
  },
  "language_info": {
   "codemirror_mode": {
    "name": "ipython",
    "version": 3
   },
   "file_extension": ".py",
   "mimetype": "text/x-python",
   "name": "python",
   "nbconvert_exporter": "python",
   "pygments_lexer": "ipython3",
   "version": "3.11.0rc1"
  }
 },
 "nbformat": 4,
 "nbformat_minor": 5
}
