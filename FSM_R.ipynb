{
 "cells": [
  {
   "cell_type": "markdown",
   "id": "ec5029cd-a408-4c3d-a4c2-4b0ca97c25c5",
   "metadata": {},
   "source": [
    "# Four tank system example - Fault Signature Matrix, row resoning"
   ]
  },
  {
   "cell_type": "code",
   "execution_count": 1,
   "id": "c6eb954c",
   "metadata": {},
   "outputs": [],
   "source": [
    "import pandas as pd\n",
    "from isolability import pairwise_relationships as pr\n",
    "from isolability import martices_and_indices as ind\n",
    "from four_tanks.es import ess"
   ]
  },
  {
   "cell_type": "markdown",
   "id": "705852ab-e25f-49aa-8be6-302a1fdf5d97",
   "metadata": {},
   "source": [
    "#### Fault Signature Matrix"
   ]
  },
  {
   "cell_type": "code",
   "execution_count": 2,
   "id": "b64199c2",
   "metadata": {
    "lines_to_next_cell": 0
   },
   "outputs": [
    {
     "data": {
      "text/html": [
       "<div>\n",
       "<style scoped>\n",
       "    .dataframe tbody tr th:only-of-type {\n",
       "        vertical-align: middle;\n",
       "    }\n",
       "\n",
       "    .dataframe tbody tr th {\n",
       "        vertical-align: top;\n",
       "    }\n",
       "\n",
       "    .dataframe thead th {\n",
       "        text-align: right;\n",
       "    }\n",
       "</style>\n",
       "<table border=\"1\" class=\"dataframe\">\n",
       "  <thead>\n",
       "    <tr style=\"text-align: right;\">\n",
       "      <th></th>\n",
       "      <th>f_1</th>\n",
       "      <th>f_2</th>\n",
       "      <th>f_3</th>\n",
       "      <th>f_4</th>\n",
       "      <th>f_5</th>\n",
       "      <th>f_6</th>\n",
       "      <th>f_7</th>\n",
       "      <th>f_8</th>\n",
       "      <th>f_9</th>\n",
       "      <th>f_10</th>\n",
       "    </tr>\n",
       "  </thead>\n",
       "  <tbody>\n",
       "    <tr>\n",
       "      <th>s_1</th>\n",
       "      <td>1</td>\n",
       "      <td>1</td>\n",
       "      <td>1</td>\n",
       "      <td>1</td>\n",
       "      <td>1</td>\n",
       "      <td>1</td>\n",
       "      <td>1</td>\n",
       "      <td>1</td>\n",
       "      <td>1</td>\n",
       "      <td>0</td>\n",
       "    </tr>\n",
       "    <tr>\n",
       "      <th>s_2</th>\n",
       "      <td>1</td>\n",
       "      <td>1</td>\n",
       "      <td>1</td>\n",
       "      <td>1</td>\n",
       "      <td>1</td>\n",
       "      <td>1</td>\n",
       "      <td>1</td>\n",
       "      <td>1</td>\n",
       "      <td>0</td>\n",
       "      <td>1</td>\n",
       "    </tr>\n",
       "    <tr>\n",
       "      <th>s_3</th>\n",
       "      <td>0</td>\n",
       "      <td>1</td>\n",
       "      <td>1</td>\n",
       "      <td>1</td>\n",
       "      <td>1</td>\n",
       "      <td>1</td>\n",
       "      <td>1</td>\n",
       "      <td>0</td>\n",
       "      <td>1</td>\n",
       "      <td>1</td>\n",
       "    </tr>\n",
       "  </tbody>\n",
       "</table>\n",
       "</div>"
      ],
      "text/plain": [
       "     f_1   f_2   f_3   f_4   f_5   f_6   f_7   f_8   f_9   f_10\n",
       "s_1    1     1     1     1     1     1     1     1     1      0\n",
       "s_2    1     1     1     1     1     1     1     1     0      1\n",
       "s_3    0     1     1     1     1     1     1     0     1      1"
      ]
     },
     "execution_count": 2,
     "metadata": {},
     "output_type": "execute_result"
    }
   ],
   "source": [
    "fsm_df = pd.read_csv('four_tanks/fsm.csv', sep=';', index_col=0)\n",
    "fsm_df"
   ]
  },
  {
   "cell_type": "code",
   "execution_count": 3,
   "id": "45ea3490",
   "metadata": {
    "lines_to_next_cell": 0
   },
   "outputs": [
    {
     "data": {
      "text/plain": [
       "array([[1, 1, 1, 1, 1, 1, 1, 1, 1, 0],\n",
       "       [1, 1, 1, 1, 1, 1, 1, 1, 0, 1],\n",
       "       [0, 1, 1, 1, 1, 1, 1, 0, 1, 1]])"
      ]
     },
     "execution_count": 3,
     "metadata": {},
     "output_type": "execute_result"
    }
   ],
   "source": [
    "fsm = fsm_df.to_numpy()\n",
    "fsm"
   ]
  },
  {
   "cell_type": "markdown",
   "id": "ad03f97f-a836-4fc6-83d1-e2125904dd34",
   "metadata": {},
   "source": [
    "#### Exploration of pairwise isolabity relationships\n",
    "* Function arguments are fault **indices** starting from 0, so pr.RN_R_FSM(fsm, 1, 2) checks faults $f_2$ and $f_3$\n",
    "* Avaliable relations:\n",
    "    - RN_R_FSM - mutually non-isolable\n",
    "    - RUN_R_FSM - unilaterally non-isolable\n",
    "    - RUW_R_FSM - unilaterally (weakly) isolable\n",
    "    - RW_R_FSM - bilaterally (weakly) isolable\n",
    "    - RUS_R_FSM - unilaterally strongly isolable\n",
    "    - RS_R_FSM - bilaterally strongly isolable"
   ]
  },
  {
   "cell_type": "code",
   "execution_count": 4,
   "id": "26949a02",
   "metadata": {
    "lines_to_next_cell": 0
   },
   "outputs": [
    {
     "data": {
      "text/plain": [
       "np.False_"
      ]
     },
     "execution_count": 4,
     "metadata": {},
     "output_type": "execute_result"
    }
   ],
   "source": [
    "pr.RS_R_FSM(fsm, 7, 8)"
   ]
  },
  {
   "cell_type": "markdown",
   "id": "d146b520-8c3e-4e6d-80df-b98858118c26",
   "metadata": {},
   "source": [
    "#### EIM matrix"
   ]
  },
  {
   "cell_type": "code",
   "execution_count": 6,
   "id": "66abc9a3",
   "metadata": {
    "lines_to_next_cell": 0
   },
   "outputs": [
    {
     "data": {
      "text/plain": [
       "array([[0., 0., 0., 0., 0., 0., 0., 0., 1., 1.],\n",
       "       [1., 0., 0., 0., 0., 0., 0., 1., 1., 1.],\n",
       "       [1., 0., 0., 0., 0., 0., 0., 1., 1., 1.],\n",
       "       [1., 0., 0., 0., 0., 0., 0., 1., 1., 1.],\n",
       "       [1., 0., 0., 0., 0., 0., 0., 1., 1., 1.],\n",
       "       [1., 0., 0., 0., 0., 0., 0., 1., 1., 1.],\n",
       "       [1., 0., 0., 0., 0., 0., 0., 1., 1., 1.],\n",
       "       [0., 0., 0., 0., 0., 0., 0., 0., 1., 1.],\n",
       "       [1., 0., 0., 0., 0., 0., 0., 1., 0., 1.],\n",
       "       [1., 0., 0., 0., 0., 0., 0., 1., 1., 0.]])"
      ]
     },
     "execution_count": 6,
     "metadata": {},
     "output_type": "execute_result"
    }
   ],
   "source": [
    "eim = ind.EIM_R_FSM(fsm)\n",
    "eim"
   ]
  },
  {
   "cell_type": "markdown",
   "id": "907f8a95-66d2-4a82-8eaa-d9becf3fc8c3",
   "metadata": {},
   "source": [
    "#### $C\\Delta$ coefficient"
   ]
  },
  {
   "cell_type": "code",
   "execution_count": 7,
   "id": "f0095c9c",
   "metadata": {
    "lines_to_next_cell": 0
   },
   "outputs": [
    {
     "name": "stdout",
     "output_type": "stream",
     "text": [
      "0.378\n"
     ]
    }
   ],
   "source": [
    "c_delta = ind.C_Delta(eim)\n",
    "print(f\"{c_delta:.3f}\")"
   ]
  },
  {
   "cell_type": "markdown",
   "id": "2af74391-7ced-40f9-9b29-b7144c3d9e27",
   "metadata": {},
   "source": [
    "#### $C^*\\Delta$ coefficient"
   ]
  },
  {
   "cell_type": "code",
   "execution_count": 8,
   "id": "9bad5529",
   "metadata": {
    "lines_to_next_cell": 0
   },
   "outputs": [
    {
     "name": "stdout",
     "output_type": "stream",
     "text": [
      "0.378\n"
     ]
    }
   ],
   "source": [
    "c_star_delta = ind.C_star_Delta(eim)\n",
    "print(f\"{c_star_delta:.3f}\")"
   ]
  },
  {
   "cell_type": "markdown",
   "id": "651bfdfd-2e21-4686-aa38-6bf0d63486a6",
   "metadata": {},
   "source": [
    "#### IMES matrix"
   ]
  },
  {
   "cell_type": "code",
   "execution_count": 9,
   "id": "4677c544",
   "metadata": {
    "lines_to_next_cell": 0
   },
   "outputs": [
    {
     "data": {
      "text/plain": [
       "array([[0., 0., 1., 1., 0., 0., 1., 0., 0., 0.],\n",
       "       [0., 0., 1., 1., 0., 0., 1., 0., 0., 0.],\n",
       "       [1., 1., 0., 0., 1., 0., 0., 0., 0., 0.],\n",
       "       [1., 1., 0., 0., 1., 0., 0., 0., 0., 0.],\n",
       "       [0., 0., 1., 1., 0., 0., 1., 0., 0., 0.],\n",
       "       [0., 0., 0., 0., 0., 0., 0., 0., 0., 0.],\n",
       "       [1., 1., 0., 0., 1., 0., 0., 0., 0., 0.],\n",
       "       [0., 0., 0., 0., 0., 0., 0., 0., 0., 0.],\n",
       "       [0., 0., 0., 0., 0., 0., 0., 0., 0., 0.],\n",
       "       [0., 0., 0., 0., 0., 0., 0., 0., 0., 0.]])"
      ]
     },
     "execution_count": 9,
     "metadata": {},
     "output_type": "execute_result"
    }
   ],
   "source": [
    "imes = ind.IMES(ess)\n",
    "imes"
   ]
  },
  {
   "cell_type": "markdown",
   "id": "ae7f5ea4-1211-4804-a62d-d7ae5feaa78c",
   "metadata": {},
   "source": [
    "#### Weights for composition of EIM and IMES"
   ]
  },
  {
   "cell_type": "code",
   "execution_count": 14,
   "id": "36cfe7fd",
   "metadata": {
    "lines_to_next_cell": 0
   },
   "outputs": [
    {
     "data": {
      "text/html": [
       "<div>\n",
       "<style scoped>\n",
       "    .dataframe tbody tr th:only-of-type {\n",
       "        vertical-align: middle;\n",
       "    }\n",
       "\n",
       "    .dataframe tbody tr th {\n",
       "        vertical-align: top;\n",
       "    }\n",
       "\n",
       "    .dataframe thead th {\n",
       "        text-align: right;\n",
       "    }\n",
       "</style>\n",
       "<table border=\"1\" class=\"dataframe\">\n",
       "  <thead>\n",
       "    <tr style=\"text-align: right;\">\n",
       "      <th></th>\n",
       "      <th>RW_ES</th>\n",
       "      <th>RJW_ES</th>\n",
       "      <th>RN_ES</th>\n",
       "    </tr>\n",
       "  </thead>\n",
       "  <tbody>\n",
       "    <tr>\n",
       "      <th>RS_Rn_FSM</th>\n",
       "      <td>2</td>\n",
       "      <td>2.0</td>\n",
       "      <td>2.0</td>\n",
       "    </tr>\n",
       "    <tr>\n",
       "      <th>RUS_Rn_FSM</th>\n",
       "      <td>2</td>\n",
       "      <td>2.0</td>\n",
       "      <td>1.5</td>\n",
       "    </tr>\n",
       "    <tr>\n",
       "      <th>RW_R_FSM</th>\n",
       "      <td>2</td>\n",
       "      <td>1.5</td>\n",
       "      <td>1.0</td>\n",
       "    </tr>\n",
       "    <tr>\n",
       "      <th>RUW_R_FSM</th>\n",
       "      <td>2</td>\n",
       "      <td>1.4</td>\n",
       "      <td>1.0</td>\n",
       "    </tr>\n",
       "    <tr>\n",
       "      <th>RUN_R_FSM</th>\n",
       "      <td>1</td>\n",
       "      <td>0.7</td>\n",
       "      <td>0.0</td>\n",
       "    </tr>\n",
       "    <tr>\n",
       "      <th>RN_R_FSM</th>\n",
       "      <td>1</td>\n",
       "      <td>0.5</td>\n",
       "      <td>0.0</td>\n",
       "    </tr>\n",
       "  </tbody>\n",
       "</table>\n",
       "</div>"
      ],
      "text/plain": [
       "            RW_ES   RJW_ES   RN_ES\n",
       "RS_Rn_FSM       2      2.0     2.0\n",
       "RUS_Rn_FSM      2      2.0     1.5\n",
       "RW_R_FSM        2      1.5     1.0\n",
       "RUW_R_FSM       2      1.4     1.0\n",
       "RUN_R_FSM       1      0.7     0.0\n",
       "RN_R_FSM        1      0.5     0.0"
      ]
     },
     "execution_count": 14,
     "metadata": {},
     "output_type": "execute_result"
    }
   ],
   "source": [
    "comp_weights = pd.read_csv('conf/IMES_weights_FSM_R.csv', sep=';', index_col=0)\n",
    "comp_weights"
   ]
  },
  {
   "cell_type": "markdown",
   "id": "f6db2940-6e3f-4bb1-a040-c2670f0cca2f",
   "metadata": {},
   "source": [
    "#### EIM$^*$"
   ]
  },
  {
   "cell_type": "code",
   "execution_count": 11,
   "id": "1e7da4e0",
   "metadata": {
    "lines_to_next_cell": 0
   },
   "outputs": [
    {
     "data": {
      "text/plain": [
       "array([[0., 0., 1., 1., 0., 0., 1., 0., 1., 1.],\n",
       "       [1., 0., 1., 1., 0., 0., 1., 1., 1., 1.],\n",
       "       [2., 1., 0., 0., 1., 0., 0., 1., 1., 1.],\n",
       "       [2., 1., 0., 0., 1., 0., 0., 1., 1., 1.],\n",
       "       [1., 0., 1., 1., 0., 0., 1., 1., 1., 1.],\n",
       "       [1., 0., 0., 0., 0., 0., 0., 1., 1., 1.],\n",
       "       [2., 1., 0., 0., 1., 0., 0., 1., 1., 1.],\n",
       "       [0., 0., 0., 0., 0., 0., 0., 0., 1., 1.],\n",
       "       [1., 0., 0., 0., 0., 0., 0., 1., 0., 1.],\n",
       "       [1., 0., 0., 0., 0., 0., 0., 1., 1., 0.]])"
      ]
     },
     "execution_count": 11,
     "metadata": {},
     "output_type": "execute_result"
    }
   ],
   "source": [
    "eim_star = ind.EIM_star_R_FSM(fsm, ess,comp_weights)\n",
    "eim_star"
   ]
  },
  {
   "cell_type": "markdown",
   "id": "c83e2816-f354-43b6-b619-491c0acc114b",
   "metadata": {},
   "source": [
    "#### $C \\Delta (EIM^*)$"
   ]
  },
  {
   "cell_type": "code",
   "execution_count": 12,
   "id": "5c9c73cc",
   "metadata": {
    "lines_to_next_cell": 0
   },
   "outputs": [
    {
     "name": "stdout",
     "output_type": "stream",
     "text": [
      "0.578\n"
     ]
    }
   ],
   "source": [
    "c_delta = ind.C_Delta(eim_star)\n",
    "print(f\"{c_delta:.3f}\")"
   ]
  },
  {
   "cell_type": "markdown",
   "id": "a2133d54-dca7-4791-8f36-ca4cf25b2326",
   "metadata": {},
   "source": [
    "#### $C^* \\Delta (EIM^*)$"
   ]
  },
  {
   "cell_type": "code",
   "execution_count": null,
   "id": "d5baaf14",
   "metadata": {
    "lines_to_next_cell": 0
   },
   "outputs": [],
   "source": [
    "c_star_delta = ind.C_star_Delta(eim_star)\n",
    "print(f\"{c_star_delta:.3f}\")"
   ]
  }
 ],
 "metadata": {
  "jupytext": {
   "cell_metadata_filter": "-all",
   "main_language": "python",
   "notebook_metadata_filter": "-all"
  },
  "kernelspec": {
   "display_name": "diags",
   "language": "python",
   "name": "diags"
  },
  "language_info": {
   "codemirror_mode": {
    "name": "ipython",
    "version": 3
   },
   "file_extension": ".py",
   "mimetype": "text/x-python",
   "name": "python",
   "nbconvert_exporter": "python",
   "pygments_lexer": "ipython3",
   "version": "3.11.0rc1"
  }
 },
 "nbformat": 4,
 "nbformat_minor": 5
}
