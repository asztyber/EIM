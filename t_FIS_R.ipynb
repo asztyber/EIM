{
 "cells": [
  {
   "cell_type": "code",
   "execution_count": null,
   "id": "777a5281",
   "metadata": {},
   "outputs": [],
   "source": [
    "import pandas as pd\n",
    "from isolability import pairwise_relationships as pr\n",
    "import isolability.martices_and_indices as ind\n",
    "from four_tanks.es import ess\n",
    "\n",
    "import importlib\n",
    "importlib.reload(pr)\n",
    "importlib.reload(ind)"
   ]
  },
  {
   "cell_type": "code",
   "execution_count": null,
   "id": "6bf8ac95",
   "metadata": {
    "lines_to_next_cell": 0
   },
   "outputs": [],
   "source": [
    "fis_df = pd.read_csv('four_tanks/fis.csv', sep=';', index_col=0, dtype=str)\n",
    "fis_df"
   ]
  },
  {
   "cell_type": "code",
   "execution_count": null,
   "id": "dbd03f00",
   "metadata": {
    "lines_to_next_cell": 0
   },
   "outputs": [],
   "source": [
    "fis_df = fis_df.map(lambda x: set(a.strip() for a in x.split(',')))\n",
    "fis_df"
   ]
  },
  {
   "cell_type": "code",
   "execution_count": null,
   "id": "1c5f8d33",
   "metadata": {
    "lines_to_next_cell": 0
   },
   "outputs": [],
   "source": [
    "pr.RS_R_FIS(fis_df, 7, 8)"
   ]
  },
  {
   "cell_type": "code",
   "execution_count": null,
   "id": "08332f62",
   "metadata": {
    "lines_to_next_cell": 0
   },
   "outputs": [],
   "source": [
    "eim = ind.EIM_R_FIS(fis_df)\n",
    "eim"
   ]
  },
  {
   "cell_type": "code",
   "execution_count": null,
   "id": "66a2d3bd",
   "metadata": {
    "lines_to_next_cell": 0
   },
   "outputs": [],
   "source": [
    "c_delta = ind.C_Delta(eim)\n",
    "print(f\"{c_delta:.3f}\")"
   ]
  },
  {
   "cell_type": "code",
   "execution_count": null,
   "id": "e8877bc4",
   "metadata": {
    "lines_to_next_cell": 0
   },
   "outputs": [],
   "source": [
    "c_star_delta = ind.C_star_Delta(eim)\n",
    "print(f\"{c_star_delta:.3f}\")"
   ]
  },
  {
   "cell_type": "code",
   "execution_count": null,
   "id": "f6e82a26",
   "metadata": {
    "lines_to_next_cell": 0
   },
   "outputs": [],
   "source": [
    "imes = ind.IMES(ess)\n",
    "imes"
   ]
  },
  {
   "cell_type": "code",
   "execution_count": null,
   "id": "33e9e933",
   "metadata": {
    "lines_to_next_cell": 0
   },
   "outputs": [],
   "source": [
    "comp_weights = pd.read_csv('conf/IMES_weights_FIS_R.csv', sep=';', index_col=0)\n",
    "comp_weights"
   ]
  },
  {
   "cell_type": "code",
   "execution_count": null,
   "id": "587fbeb7",
   "metadata": {
    "lines_to_next_cell": 0
   },
   "outputs": [],
   "source": [
    "eim_star = ind.EIM_star_R_FIS(fis_df, ess, comp_weights)\n",
    "eim_star"
   ]
  },
  {
   "cell_type": "code",
   "execution_count": null,
   "id": "307d9c57",
   "metadata": {
    "lines_to_next_cell": 0
   },
   "outputs": [],
   "source": [
    "c_delta = ind.C_Delta(eim_star)\n",
    "print(f\"{c_delta:.3f}\")"
   ]
  },
  {
   "cell_type": "code",
   "execution_count": null,
   "id": "021e0d19",
   "metadata": {
    "lines_to_next_cell": 0
   },
   "outputs": [],
   "source": [
    "c_star_delta = ind.C_star_Delta(eim_star)\n",
    "print(f\"{c_star_delta:.3f}\")"
   ]
  },
  {
   "cell_type": "code",
   "execution_count": null,
   "id": "7c65f6bd",
   "metadata": {},
   "outputs": [],
   "source": []
  }
 ],
 "metadata": {
  "jupytext": {
   "cell_metadata_filter": "-all",
   "main_language": "python",
   "notebook_metadata_filter": "-all"
  }
 },
 "nbformat": 4,
 "nbformat_minor": 5
}
