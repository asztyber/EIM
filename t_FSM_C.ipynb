{
 "cells": [
  {
   "cell_type": "code",
   "execution_count": null,
   "id": "298ce971",
   "metadata": {},
   "outputs": [],
   "source": [
    "import pandas as pd\n",
    "from isolability import pairwise_relationships as pr\n",
    "import isolability.martices_and_indices as ind\n",
    "from four_tanks.es import ess\n",
    "\n",
    "import importlib\n",
    "importlib.reload(pr)\n",
    "importlib.reload(ind)"
   ]
  },
  {
   "cell_type": "code",
   "execution_count": null,
   "id": "ab3f081f",
   "metadata": {
    "lines_to_next_cell": 0
   },
   "outputs": [],
   "source": [
    "fsm_df = pd.read_csv('four_tanks/fsm.csv', sep=';', index_col=0)\n",
    "fsm_df"
   ]
  },
  {
   "cell_type": "code",
   "execution_count": null,
   "id": "f1823d01",
   "metadata": {
    "lines_to_next_cell": 0
   },
   "outputs": [],
   "source": [
    "fsm = fsm_df.to_numpy()\n",
    "fsm"
   ]
  },
  {
   "cell_type": "code",
   "execution_count": null,
   "id": "27390408",
   "metadata": {
    "lines_to_next_cell": 0
   },
   "outputs": [],
   "source": [
    "pr.R_ES_W(ess, 1, 2)"
   ]
  },
  {
   "cell_type": "code",
   "execution_count": null,
   "id": "c0435047",
   "metadata": {
    "lines_to_next_cell": 0
   },
   "outputs": [],
   "source": [
    "eim = ind.EIM_C_FSM(fsm)\n",
    "eim"
   ]
  },
  {
   "cell_type": "code",
   "execution_count": null,
   "id": "9590f969",
   "metadata": {
    "lines_to_next_cell": 0
   },
   "outputs": [],
   "source": [
    "c_delta = ind.C_Delta(eim)\n",
    "print(f\"{c_delta:.3f}\")"
   ]
  },
  {
   "cell_type": "code",
   "execution_count": null,
   "id": "53abf4cf",
   "metadata": {
    "lines_to_next_cell": 0
   },
   "outputs": [],
   "source": [
    "c_star_delta = ind.C_star_Delta(eim)\n",
    "print(f\"{c_star_delta:.3f}\")"
   ]
  },
  {
   "cell_type": "code",
   "execution_count": null,
   "id": "60a150e2",
   "metadata": {
    "lines_to_next_cell": 0
   },
   "outputs": [],
   "source": [
    "imes = ind.IMES(ess)\n",
    "imes"
   ]
  },
  {
   "cell_type": "code",
   "execution_count": null,
   "id": "31aca3f4",
   "metadata": {
    "lines_to_next_cell": 0
   },
   "outputs": [],
   "source": [
    "comp_weights = pd.read_csv('conf/IMES_weights_FSM_C.csv', sep=';', index_col=0)\n",
    "comp_weights"
   ]
  },
  {
   "cell_type": "code",
   "execution_count": null,
   "id": "69359b3d",
   "metadata": {
    "lines_to_next_cell": 0
   },
   "outputs": [],
   "source": [
    "eim_star = ind.EIM_star_C_FSM(fsm, ess, comp_weights)\n",
    "eim_star"
   ]
  },
  {
   "cell_type": "code",
   "execution_count": null,
   "id": "ff9a8e36",
   "metadata": {
    "lines_to_next_cell": 0
   },
   "outputs": [],
   "source": [
    "c_delta = ind.C_Delta(eim_star)\n",
    "print(f\"{c_delta:.3f}\")"
   ]
  },
  {
   "cell_type": "code",
   "execution_count": null,
   "id": "098b5a82",
   "metadata": {
    "lines_to_next_cell": 0
   },
   "outputs": [],
   "source": [
    "c_star_delta = ind.C_star_Delta(eim_star)\n",
    "print(f\"{c_star_delta:.3f}\")"
   ]
  },
  {
   "cell_type": "code",
   "execution_count": null,
   "id": "08d3df4a",
   "metadata": {},
   "outputs": [],
   "source": []
  }
 ],
 "metadata": {
  "jupytext": {
   "cell_metadata_filter": "-all",
   "main_language": "python",
   "notebook_metadata_filter": "-all"
  }
 },
 "nbformat": 4,
 "nbformat_minor": 5
}
